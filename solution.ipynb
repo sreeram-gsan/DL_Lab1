{
 "cells": [
  {
   "cell_type": "markdown",
   "id": "194f0926-9c25-4cd2-b56b-0c63e544ff79",
   "metadata": {},
   "source": [
    "# Problem 1 (CODE)"
   ]
  },
  {
   "cell_type": "markdown",
   "id": "2cd446ba-490c-4643-9a06-939f89f5be2f",
   "metadata": {},
   "source": [
    "<p> Link to Github: </p>\n",
    "<a href=\"https://github.com/sreeram-gsan/DL_Lab1\">Github"
   ]
  },
  {
   "cell_type": "markdown",
   "id": "9a08914c-b094-4808-aad9-1e3e70b679c1",
   "metadata": {},
   "source": [
    "### 1. Loading the dataset from scikit learn"
   ]
  },
  {
   "cell_type": "code",
   "execution_count": 407,
   "id": "576f9a9a-e93a-4b18-84b1-ae71cefd8e9b",
   "metadata": {},
   "outputs": [],
   "source": [
    "from sklearn.datasets import load_wine\n",
    "wine = load_wine()"
   ]
  },
  {
   "cell_type": "code",
   "execution_count": 408,
   "id": "c0ef5d26-7d38-4f66-8b49-a6a084a3cc7e",
   "metadata": {},
   "outputs": [],
   "source": [
    "data = wine.data\n",
    "target = wine.target"
   ]
  },
  {
   "cell_type": "markdown",
   "id": "6d3ac66e-4f11-4ee9-b6ea-128357ffa531",
   "metadata": {},
   "source": [
    "### 2. Splitting the data into traning and testing data"
   ]
  },
  {
   "cell_type": "code",
   "execution_count": 409,
   "id": "9a8193b2-3b75-4fbb-bb94-79d2c07c08a4",
   "metadata": {},
   "outputs": [],
   "source": [
    "from sklearn.model_selection import train_test_split\n",
    "X_train, X_test, y_train, y_test = train_test_split(data, target, random_state=1)\n",
    "\n",
    "from sklearn.preprocessing import StandardScaler\n",
    "stdsc = StandardScaler()\n",
    "stdsc.fit(X_train)\n",
    "X_train_std = stdsc.transform(X_train)\n",
    "X_test_std = stdsc.transform(X_test)"
   ]
  },
  {
   "cell_type": "markdown",
   "id": "c4a69e46-dbaf-4035-8ba0-2f6508607f98",
   "metadata": {},
   "source": [
    "### 3. Training the Neural Network"
   ]
  },
  {
   "cell_type": "code",
   "execution_count": 410,
   "id": "7f65781f-c3ea-4da2-a0c2-932f0d776f7f",
   "metadata": {},
   "outputs": [],
   "source": [
    "def predit_and_plot_accuracy(activation_fn, hidden_layer_size, no_of_neurons):      \n",
    "    hl_size = []\n",
    "    for i in range(0,hidden_layer_size):\n",
    "        hl_size.append(no_of_neurons)          \n",
    "    mlp2 = MLPClassifier(random_state=1,activation=activation_fn, hidden_layer_sizes=hl_size)\n",
    "    mlp2.fit(X_train_std, y_train)\n",
    "    print(\"Activation Func: {}\".format(mlp2.activation))\n",
    "    print(\"Accuracry Score on test set: {}\".format(mlp2.score(X_test_std, y_test)))\n",
    "    \n",
    "    # Evaluation metrics\n",
    "    from sklearn import metrics\n",
    "    y_predicted = mlp2.predict(X_test_std)\n",
    "    print(metrics.classification_report(y_test, y_predicted))\n",
    "    \n",
    "    #Confusion Matrix\n",
    "    from sklearn.metrics import confusion_matrix\n",
    "    import seaborn as sns\n",
    "    import matplotlib.pyplot as plt\n",
    "\n",
    "    mat = confusion_matrix(y_test, y_predicted)\n",
    "    sns.heatmap(mat.T, square = True, annot = True, fmt = 'd', cbar = False)\n",
    "    plt.xlabel(\"True Label\")\n",
    "    plt.ylabel(\"Predicted Label\")    "
   ]
  },
  {
   "cell_type": "markdown",
   "id": "c74d517b-e648-4a46-b7c0-3e64bafeb555",
   "metadata": {
    "tags": []
   },
   "source": [
    "#### 3.1 \n",
    "\n",
    "Activation Fn : tanh <br/>\n",
    "Hidden Layers: 2 <br/>\n",
    "No.of neurons per layer: 5 <br/>"
   ]
  },
  {
   "cell_type": "code",
   "execution_count": 411,
   "id": "6254a8ba-79db-4ec4-a28d-12ee17cf85a6",
   "metadata": {},
   "outputs": [
    {
     "name": "stdout",
     "output_type": "stream",
     "text": [
      "Activation Func: tanh\n",
      "Accuracry Score on test set: 0.7333333333333333\n",
      "              precision    recall  f1-score   support\n",
      "\n",
      "           0       0.62      1.00      0.77        18\n",
      "           1       1.00      0.47      0.64        17\n",
      "           2       0.88      0.70      0.78        10\n",
      "\n",
      "    accuracy                           0.73        45\n",
      "   macro avg       0.83      0.72      0.73        45\n",
      "weighted avg       0.82      0.73      0.72        45\n",
      "\n"
     ]
    },
    {
     "data": {
      "image/png": "[encoded data removed]",
      "text/plain": [
       "<Figure size 432x288 with 1 Axes>"
      ]
     },
     "metadata": {
      "needs_background": "light"
     },
     "output_type": "display_data"
    }
   ],
   "source": [
    "predit_and_plot_accuracy('tanh', 1, 5)"
   ]
  },
  {
   "cell_type": "markdown",
   "id": "38790d35-43e9-4b04-8b72-44580dd8d560",
   "metadata": {},
   "source": [
    "#### 3.2\n",
    "\n",
    "Activation Fn : tanh <br/>\n",
    "Hidden Layers: 2 <br/>\n",
    "No.of neurons per layer: 10 <br/>"
   ]
  },
  {
   "cell_type": "code",
   "execution_count": 412,
   "id": "07e36894-c01d-4235-b550-d8f262880489",
   "metadata": {},
   "outputs": [
    {
     "name": "stdout",
     "output_type": "stream",
     "text": [
      "Activation Func: tanh\n",
      "Accuracry Score on test set: 0.9555555555555556\n",
      "              precision    recall  f1-score   support\n",
      "\n",
      "           0       0.95      1.00      0.97        18\n",
      "           1       1.00      0.94      0.97        17\n",
      "           2       0.90      0.90      0.90        10\n",
      "\n",
      "    accuracy                           0.96        45\n",
      "   macro avg       0.95      0.95      0.95        45\n",
      "weighted avg       0.96      0.96      0.96        45\n",
      "\n"
     ]
    },
    {
     "data": {
      "image/png": "[encoded data removed]",
      "text/plain": [
       "<Figure size 432x288 with 1 Axes>"
      ]
     },
     "metadata": {
      "needs_background": "light"
     },
     "output_type": "display_data"
    }
   ],
   "source": [
    "predit_and_plot_accuracy('tanh', 1, 10)"
   ]
  },
  {
   "cell_type": "markdown",
   "id": "d5da9666-b8b6-40e2-8598-722d28a5b49f",
   "metadata": {},
   "source": [
    "#### 3.3\n",
    "\n",
    "Activation Fn : tanh <br/>\n",
    "Hidden Layers: 5 <br/>\n",
    "No.of neurons per layer: 5 <br/>"
   ]
  },
  {
   "cell_type": "code",
   "execution_count": 413,
   "id": "5dac56b5-3bbc-40bf-b3ec-5ccd26ee4f55",
   "metadata": {},
   "outputs": [
    {
     "name": "stdout",
     "output_type": "stream",
     "text": [
      "Activation Func: tanh\n",
      "Accuracry Score on test set: 0.9333333333333333\n",
      "              precision    recall  f1-score   support\n",
      "\n",
      "           0       0.90      1.00      0.95        18\n",
      "           1       0.94      0.88      0.91        17\n",
      "           2       1.00      0.90      0.95        10\n",
      "\n",
      "    accuracy                           0.93        45\n",
      "   macro avg       0.95      0.93      0.93        45\n",
      "weighted avg       0.94      0.93      0.93        45\n",
      "\n"
     ]
    },
    {
     "data": {
      "image/png": "[encoded data removed]",
      "text/plain": [
       "<Figure size 432x288 with 1 Axes>"
      ]
     },
     "metadata": {
      "needs_background": "light"
     },
     "output_type": "display_data"
    }
   ],
   "source": [
    "predit_and_plot_accuracy('tanh', 5, 5)"
   ]
  },
  {
   "cell_type": "markdown",
   "id": "50236ee4-02f5-4fc0-a091-925ca980f54a",
   "metadata": {},
   "source": [
    "#### 3.4\n",
    "\n",
    "Activation Fn : tanh <br/>\n",
    "Hidden Layers: 5 <br/>\n",
    "No.of neurons per layer: 10 <br/>"
   ]
  },
  {
   "cell_type": "code",
   "execution_count": 414,
   "id": "bfe9ceb2-fec6-43de-823a-d389635b6830",
   "metadata": {},
   "outputs": [
    {
     "name": "stdout",
     "output_type": "stream",
     "text": [
      "Activation Func: tanh\n",
      "Accuracry Score on test set: 1.0\n",
      "              precision    recall  f1-score   support\n",
      "\n",
      "           0       1.00      1.00      1.00        18\n",
      "           1       1.00      1.00      1.00        17\n",
      "           2       1.00      1.00      1.00        10\n",
      "\n",
      "    accuracy                           1.00        45\n",
      "   macro avg       1.00      1.00      1.00        45\n",
      "weighted avg       1.00      1.00      1.00        45\n",
      "\n"
     ]
    },
    {
     "data": {
      "image/png": "[encoded data removed]",
      "text/plain": [
       "<Figure size 432x288 with 1 Axes>"
      ]
     },
     "metadata": {
      "needs_background": "light"
     },
     "output_type": "display_data"
    }
   ],
   "source": [
    "predit_and_plot_accuracy('tanh', 5, 10)"
   ]
  },
  {
   "cell_type": "markdown",
   "id": "27f8a953-0f93-4e7a-9f23-ae2c277a9aa4",
   "metadata": {
    "tags": []
   },
   "source": [
    "#### 3.5\n",
    "\n",
    "Activation Fn : relu <br/>\n",
    "Hidden Layers: 2 <br/>\n",
    "No.of neurons per layer: 5 <br/>"
   ]
  },
  {
   "cell_type": "code",
   "execution_count": 415,
   "id": "47dd6667-6891-406e-9093-5f721339de5f",
   "metadata": {},
   "outputs": [
    {
     "name": "stdout",
     "output_type": "stream",
     "text": [
      "Activation Func: relu\n",
      "Accuracry Score on test set: 0.6888888888888889\n",
      "              precision    recall  f1-score   support\n",
      "\n",
      "           0       0.58      1.00      0.73        18\n",
      "           1       1.00      0.41      0.58        17\n",
      "           2       0.86      0.60      0.71        10\n",
      "\n",
      "    accuracy                           0.69        45\n",
      "   macro avg       0.81      0.67      0.67        45\n",
      "weighted avg       0.80      0.69      0.67        45\n",
      "\n"
     ]
    },
    {
     "data": {
      "image/png": "[encoded data removed]",
      "text/plain": [
       "<Figure size 432x288 with 1 Axes>"
      ]
     },
     "metadata": {
      "needs_background": "light"
     },
     "output_type": "display_data"
    }
   ],
   "source": [
    "predit_and_plot_accuracy('relu', 1, 5)"
   ]
  },
  {
   "cell_type": "markdown",
   "id": "c016b4a0-2e03-4e9b-9fe5-a7919b60dda6",
   "metadata": {
    "tags": []
   },
   "source": [
    "#### 3.6\n",
    "\n",
    "Activation Fn : relu <br/>\n",
    "Hidden Layers: 2 <br/>\n",
    "No.of neurons per layer: 10 <br/>"
   ]
  },
  {
   "cell_type": "code",
   "execution_count": 416,
   "id": "e694f368-49d9-4172-b014-716b1b213bf6",
   "metadata": {},
   "outputs": [
    {
     "name": "stdout",
     "output_type": "stream",
     "text": [
      "Activation Func: relu\n",
      "Accuracry Score on test set: 0.9777777777777777\n",
      "              precision    recall  f1-score   support\n",
      "\n",
      "           0       0.95      1.00      0.97        18\n",
      "           1       1.00      1.00      1.00        17\n",
      "           2       1.00      0.90      0.95        10\n",
      "\n",
      "    accuracy                           0.98        45\n",
      "   macro avg       0.98      0.97      0.97        45\n",
      "weighted avg       0.98      0.98      0.98        45\n",
      "\n"
     ]
    },
    {
     "data": {
      "image/png": "[encoded data removed]",
      "text/plain": [
       "<Figure size 432x288 with 1 Axes>"
      ]
     },
     "metadata": {
      "needs_background": "light"
     },
     "output_type": "display_data"
    }
   ],
   "source": [
    "predit_and_plot_accuracy('relu', 1, 10)"
   ]
  },
  {
   "cell_type": "markdown",
   "id": "a3f3215b-792b-4ba1-a2f3-1b89f808dd1b",
   "metadata": {
    "tags": []
   },
   "source": [
    "#### 3.7\n",
    "\n",
    "Activation Fn : relu <br/>\n",
    "Hidden Layers: 5 <br/>\n",
    "No.of neurons per layer: 5 <br/>"
   ]
  },
  {
   "cell_type": "code",
   "execution_count": 417,
   "id": "17e7b03e-dc98-4fa3-9056-d460a8466b04",
   "metadata": {},
   "outputs": [
    {
     "name": "stdout",
     "output_type": "stream",
     "text": [
      "Activation Func: relu\n",
      "Accuracry Score on test set: 0.9777777777777777\n",
      "              precision    recall  f1-score   support\n",
      "\n",
      "           0       0.95      1.00      0.97        18\n",
      "           1       1.00      0.94      0.97        17\n",
      "           2       1.00      1.00      1.00        10\n",
      "\n",
      "    accuracy                           0.98        45\n",
      "   macro avg       0.98      0.98      0.98        45\n",
      "weighted avg       0.98      0.98      0.98        45\n",
      "\n"
     ]
    },
    {
     "data": {
      "image/png": "[encoded data removed]",
      "text/plain": [
       "<Figure size 432x288 with 1 Axes>"
      ]
     },
     "metadata": {
      "needs_background": "light"
     },
     "output_type": "display_data"
    }
   ],
   "source": [
    "predit_and_plot_accuracy('relu', 5, 5)"
   ]
  },
  {
   "cell_type": "markdown",
   "id": "d4202b75-9844-4f48-b841-923eb0254cfe",
   "metadata": {},
   "source": [
    "#### 3.8\n",
    "\n",
    "Activation Fn : relu <br/>\n",
    "Hidden Layers: 5 <br/>\n",
    "No.of neurons per layer: 10 <br/>"
   ]
  },
  {
   "cell_type": "code",
   "execution_count": 418,
   "id": "20a8b9b3-f3fc-4942-b10b-c9d596725478",
   "metadata": {},
   "outputs": [
    {
     "name": "stdout",
     "output_type": "stream",
     "text": [
      "Activation Func: relu\n",
      "Accuracry Score on test set: 0.9777777777777777\n",
      "              precision    recall  f1-score   support\n",
      "\n",
      "           0       0.95      1.00      0.97        18\n",
      "           1       1.00      0.94      0.97        17\n",
      "           2       1.00      1.00      1.00        10\n",
      "\n",
      "    accuracy                           0.98        45\n",
      "   macro avg       0.98      0.98      0.98        45\n",
      "weighted avg       0.98      0.98      0.98        45\n",
      "\n"
     ]
    },
    {
     "data": {
      "image/png": "[encoded data removed]",
      "text/plain": [
       "<Figure size 432x288 with 1 Axes>"
      ]
     },
     "metadata": {
      "needs_background": "light"
     },
     "output_type": "display_data"
    }
   ],
   "source": [
    "predit_and_plot_accuracy('relu', 5, 10)"
   ]
  },
  {
   "cell_type": "markdown",
   "id": "34eb9a98-a20c-41cd-ba37-edd3a6cb7121",
   "metadata": {},
   "source": [
    "# Problem 1 (WRITE UP)"
   ]
  },
  {
   "cell_type": "markdown",
   "id": "a85b720d-d891-4e8b-aff2-b21a9bb0d1ba",
   "metadata": {},
   "source": [
    "<p> The dataset for this lab has been taken from scikit learn dataset. The following is the link to the source of the dataset</p> <br>\n",
    "    https://scikit-learn.org/stable/modules/generated/sklearn.datasets.load_wine.html#sklearn.datasets.load_wine\n",
    "    <br>\n",
    "    <h4> Description of the dataset </h4>\n",
    "    <ul>\n",
    "        <li> The dataset contain 178 samples </li>\n",
    "        <li> There are three classes of wine - 0, 1 and 2</li>\n",
    "        <li> The dataset contains 59 samples of wine 0, 71 samples of wine 1 and 48 samples of wine 2</li>\n",
    "      </ul>\n",
    "<p> Reporting the result </p>\n",
    "      \n",
    "<table>\n",
    "  <tr>\n",
    "    <th>Activation Function</th>\n",
    "    <th>Hidden Layers</th>\n",
    "    <th>Neurons per layer</th>\n",
    "    <th>Accuracy</th>\n",
    "  </tr>\n",
    "  <tr>\n",
    "    <td>tanh</td>\n",
    "    <td>1</td>\n",
    "    <td>5</td>\n",
    "     <td>73.3%</td>\n",
    "  </tr>\n",
    "   <tr>\n",
    "    <td>tanh</td>\n",
    "    <td>1</td>\n",
    "    <td>10</td>\n",
    "     <td>95.5%</td>\n",
    "  </tr>\n",
    "   <tr>\n",
    "    <td>tanh</td>\n",
    "    <td>5</td>\n",
    "    <td>5</td>\n",
    "     <td>93.3%</td>\n",
    "  </tr>\n",
    "   <tr>\n",
    "    <td>tanh</td>\n",
    "    <td>5</td>\n",
    "    <td>10</td>\n",
    "     <td>100%</td>\n",
    "  </tr>  \n",
    "    <tr>\n",
    "    <td>relu</td>\n",
    "    <td>1</td>\n",
    "    <td>5</td>\n",
    "     <td>68.8%</td>\n",
    "  </tr>\n",
    "   <tr>\n",
    "    <td>relu</td>\n",
    "    <td>1</td>\n",
    "    <td>10</td>\n",
    "     <td>97.7%</td>\n",
    "  </tr>\n",
    "   <tr>\n",
    "    <td>relu</td>\n",
    "    <td>5</td>\n",
    "    <td>5</td>\n",
    "     <td>97.7%</td>\n",
    "  </tr>\n",
    "   <tr>\n",
    "    <td>relu</td>\n",
    "    <td>5</td>\n",
    "    <td>10</td>\n",
    "     <td>97.7%</td>\n",
    "  </tr>\n",
    "</table>\n",
    "      <h4> Analysis </h4>\n",
    "      <p> From the above table we can infer three things. <p>\n",
    "    <p> The first inference is that for the given data ReLU performance better than tanh. When the number of layers increases, clearly ReLU performs much better than tanh. Also the math is much simpler in ReLU, so it could be faster than tanh.</p>\n",
    "      <p>The second inference is that if there are more hidden layers, then the accuracy is higher. The third inference is that the number of neurons in neural network is directly propotional to accuracy. When there are more neurons then more things are considered before reaching a result. So it will lead to better quality results.<p>"
   ]
  },
  {
   "cell_type": "markdown",
   "id": "83e09fdc-bbce-42e2-9503-9883b97edf1f",
   "metadata": {},
   "source": [
    "# Problem 2 (CODE)"
   ]
  },
  {
   "cell_type": "markdown",
   "id": "3ade5f9a-dc49-43d3-bc05-712bfc151140",
   "metadata": {},
   "source": [
    "### 1. Loading the dataset from scikit learn"
   ]
  },
  {
   "cell_type": "code",
   "execution_count": 419,
   "id": "8d9c8cb8-70f1-4a97-891d-29b0fced95a2",
   "metadata": {},
   "outputs": [],
   "source": [
    "from sklearn.datasets import load_wine\n",
    "wine = load_wine()"
   ]
  },
  {
   "cell_type": "code",
   "execution_count": 420,
   "id": "06429a97-73cb-433d-9587-0e263ada4f0f",
   "metadata": {},
   "outputs": [],
   "source": [
    "data = wine.data\n",
    "target = wine.target\n",
    "X_train, X_test, y_train, y_test = None,None,None,None"
   ]
  },
  {
   "cell_type": "markdown",
   "id": "91dd013d-5652-4ab5-9833-021e1eeb18c7",
   "metadata": {},
   "source": [
    "### 2. Training the Neural Network"
   ]
  },
  {
   "cell_type": "markdown",
   "id": "052f8b42-aa89-4d94-ab94-bb620811b28c",
   "metadata": {},
   "source": [
    "<h4> Hyperparameters: </h4>\n",
    "Activation Fn : relu <br/>\n",
    "Hidden Layers: 5 <br/>\n",
    "No.of neurons per layer: 10 <br/>"
   ]
  },
  {
   "cell_type": "code",
   "execution_count": 421,
   "id": "f4307a95-1252-4799-b967-f80bbdac5355",
   "metadata": {},
   "outputs": [],
   "source": [
    "def split_training_data(percentage_to_take):\n",
    "    from sklearn.model_selection import train_test_split\n",
    "    X_train, X_test, y_train, y_test = train_test_split(data, target, random_state=1)\n",
    "    end = int((percentage_to_take/100) * len(X_train))\n",
    "    X_train = X_train[:end]\n",
    "    y_train = y_train[:end]\n",
    "    return (X_train, X_test, y_train, y_test)"
   ]
  },
  {
   "cell_type": "code",
   "execution_count": 422,
   "id": "8c3fc984-6ef5-4a63-86af-ab18da9ee936",
   "metadata": {},
   "outputs": [],
   "source": [
    "def standardize(X_train,X_test):\n",
    "    from sklearn.preprocessing import StandardScaler\n",
    "    stdsc = StandardScaler()\n",
    "    stdsc.fit(X_train)\n",
    "    X_train_std = stdsc.transform(X_train)\n",
    "    X_test_std = stdsc.transform(X_test)\n",
    "    return X_train_std,X_test_std"
   ]
  },
  {
   "cell_type": "code",
   "execution_count": 423,
   "id": "b623dbc3-2b8c-4cc1-87eb-57e1e2864931",
   "metadata": {},
   "outputs": [],
   "source": [
    "def predit_scores(X_train_std, X_test_std, y_train, y_test, activation_fn=\"relu\", hidden_layer_size=5, no_of_neurons=10):      \n",
    "    \n",
    "    %matplotlib inline    \n",
    "    start_num_epochs = 10\n",
    "    finish_num_epochs = 100\n",
    "    inc_amt = 10\n",
    "    \n",
    "    pred_scores = []\n",
    "    num_epochs = []\n",
    "\n",
    "    hl_size = []\n",
    "    for i in range(0,hidden_layer_size):\n",
    "        hl_size.append(no_of_neurons)          \n",
    "    \n",
    "    for epoch_count in range(start_num_epochs, finish_num_epochs, inc_amt):\n",
    "        mlp = MLPClassifier(random_state=1, max_iter= epoch_count, activation=activation_fn, hidden_layer_sizes=hl_size)\n",
    "        mlp.fit(X_train_std, y_train)\n",
    "        score = mlp.score(X_test_std, y_test)\n",
    "        pred_scores.append(score)\n",
    "        num_epochs.append(epoch_count)\n",
    "    return (num_epochs,pred_scores)"
   ]
  },
  {
   "cell_type": "markdown",
   "id": "59c31bb0-348c-4f52-ba55-12a76d2d085b",
   "metadata": {},
   "source": [
    "#### 3.1 Training with 25% data"
   ]
  },
  {
   "cell_type": "code",
   "execution_count": 424,
   "id": "263106b3-4810-426b-9f46-7ae67fc6f57e",
   "metadata": {},
   "outputs": [],
   "source": [
    "X_train, X_test, y_train, y_test = split_training_data(25)\n",
    "X_train_std, X_test_std = standardize(X_train,X_test)\n",
    "case1 = predit_scores(X_train_std, X_test_std, y_train, y_test)"
   ]
  },
  {
   "cell_type": "markdown",
   "id": "cb25d0e2-a388-4b27-b268-910ff45efe78",
   "metadata": {},
   "source": [
    "#### 3.2 Training with 50% data"
   ]
  },
  {
   "cell_type": "code",
   "execution_count": 425,
   "id": "e507a457-c87e-4ca1-93c6-ae0f40c87f2a",
   "metadata": {},
   "outputs": [],
   "source": [
    "X_train, X_test, y_train, y_test = split_training_data(50)\n",
    "X_train_std, X_test_std = standardize(X_train,X_test)\n",
    "case2 = predit_scores(X_train_std, X_test_std, y_train, y_test)"
   ]
  },
  {
   "cell_type": "markdown",
   "id": "2f578f1f-e7d6-45fb-88a9-7e497260edad",
   "metadata": {},
   "source": [
    "#### 3.3 Training with 75% data"
   ]
  },
  {
   "cell_type": "code",
   "execution_count": 426,
   "id": "9f908a53-0629-4285-8caf-23aba93b80a6",
   "metadata": {},
   "outputs": [],
   "source": [
    "X_train, X_test, y_train, y_test = split_training_data(75)\n",
    "X_train_std, X_test_std = standardize(X_train,X_test)\n",
    "case3 = predit_scores(X_train_std, X_test_std, y_train, y_test)"
   ]
  },
  {
   "cell_type": "markdown",
   "id": "baca0611-a1dc-4c50-970c-dfe3b8acf762",
   "metadata": {},
   "source": [
    "#### 3.4 Training with 100% data"
   ]
  },
  {
   "cell_type": "code",
   "execution_count": 427,
   "id": "33d91fc6-083a-474d-88b9-c06c3ca2ca2f",
   "metadata": {},
   "outputs": [],
   "source": [
    "X_train, X_test, y_train, y_test = split_training_data(100)\n",
    "X_train_std, X_test_std = standardize(X_train,X_test)\n",
    "case4 = predit_scores(X_train_std, X_test_std, y_train, y_test)"
   ]
  },
  {
   "cell_type": "markdown",
   "id": "2404c19a-774d-44bc-b514-a1db92e5eec4",
   "metadata": {},
   "source": [
    "### 4. Evaluating the performance of each approaches"
   ]
  },
  {
   "cell_type": "code",
   "execution_count": 428,
   "id": "09668401-72d4-42cc-b6a0-35431ed9dffb",
   "metadata": {},
   "outputs": [
    {
     "data": {
      "image/png": "[encoded data removed]",
      "text/plain": [
       "<Figure size 432x288 with 1 Axes>"
      ]
     },
     "metadata": {
      "needs_background": "light"
     },
     "output_type": "display_data"
    }
   ],
   "source": [
    "plt.xlabel(\"Number of epochs\")\n",
    "plt.ylabel(\"Accuracy\")\n",
    "plt.title(\"Impact of number of epochs on Accuracy\")\n",
    "plt.plot(case1[0], case1[1], label = \"Training with 25% data\")\n",
    "plt.plot(case2[0], case2[1], label = \"Training with 50% data\")\n",
    "plt.plot(case3[0], case3[1], label = \"Training with 75% data\")\n",
    "plt.plot(case4[0], case4[1], label = \"Training with 100% data\")\n",
    "plt.legend()\n",
    "plt.show()"
   ]
  },
  {
   "cell_type": "markdown",
   "id": "c255a509-cddb-4c60-a267-68a86e49d47d",
   "metadata": {},
   "source": [
    "# Problem 2 (WRITE UP)"
   ]
  },
  {
   "cell_type": "markdown",
   "id": "fa46a8dc-f5d8-479a-aaba-e16be6dd5e8d",
   "metadata": {},
   "source": [
    "<p> The dataset for this lab has been taken from scikit learn dataset. The following is the link to the source of the dataset <br>\n",
    "    https://scikit-learn.org/stable/modules/generated/sklearn.datasets.load_wine.html#sklearn.datasets.load_wine\n",
    "    <br>\n",
    "    <h4> Description of the dataset </h4>\n",
    "    <ul>\n",
    "        <li> The dataset contain 178 samples </li>\n",
    "        <li> There are three classes of wine - 0, 1 and 2</li>\n",
    "        <li> The dataset contains 59 samples of wine 0, 71 samples of wine 1 and 48 samples of wine 2</li>\n",
    "      </ul>\n",
    "      <h4> Analysis </h4>\n",
    "      <p> From the above graph we can infer two things. <p>\n",
    "    <p> The first inference is that accuracy increases if the number of epochs is higher. Accuracy is directly propotional to training time. When the training time is higher then the weights gets updated more oftern and so it becomes more calibrated. So the model performs better.</p>\n",
    "      <p>The second inference is that if there are more data to train, then the accuracy is higher. From the above graph we can say that the green and red lines reaches better accuracy much sooner. This clearly shows that accuracy is higher if there is more data to train the model.<p>\n",
    "    "
   ]
  }
 ],
 "metadata": {
  "kernelspec": {
   "display_name": "Python 3 (ipykernel)",
   "language": "python",
   "name": "python3"
  },
  "language_info": {
   "codemirror_mode": {
    "name": "ipython",
    "version": 3
   },
   "file_extension": ".py",
   "mimetype": "text/x-python",
   "name": "python",
   "nbconvert_exporter": "python",
   "pygments_lexer": "ipython3",
   "version": "3.9.9"
  }
 },
 "nbformat": 4,
 "nbformat_minor": 5
}
